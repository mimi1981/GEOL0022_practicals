{
 "cells": [
  {
   "cell_type": "markdown",
   "metadata": {},
   "source": [
    "# Week 2: Surface Energy Balance Practical \n",
    "\n",
    "Module: GEOL0022 Ocean Physics and Climate Change\n",
    "\n",
    "Author: Michel Tsamados \n",
    "\n",
    "In this practical we will learn to: \n",
    "- Download data from ERA5\n",
    "- Plot fluxes on a map \n",
    "- Perform some simple analysis on the data\n",
    "\n",
    "\n",
    "This is not an introduction to python and we will learn on the go. For those who want to learn more systematically here is a list of recommended tutorials selected by William Gregory\n",
    "\n",
    "\n",
    "http://mathesaurus.sourceforge.net/matlab-numpy.html \n",
    "\n",
    "http://swcarpentry.github.io/python-novice-inflammation/\n",
    "\n",
    "https://medium.freecodecamp.org/why-you-need-python-environments-and-how-to-manage-them-with-conda-85f155f4353c\n",
    "\n",
    "https://github.com/nansencenter/nansat-lectures\n",
    "\n",
    "https://jeffknupp.com/blog/2014/06/18/improve-your-python-python-classes-and-object-oriented-programming/\n",
    "\n",
    "There’s also some good YouTube videos out there describing how to programme ‘object-orientedly’ in Python too…"
   ]
  },
  {
   "cell_type": "markdown",
   "metadata": {},
   "source": [
    "# Import packages\n",
    "\n",
    "Lets get started. First we need to import some tools. \n",
    "\n",
    "All the commands below are for importing packages that will be used in this practical.  "
   ]
  },
  {
   "cell_type": "code",
   "execution_count": 2,
   "metadata": {
    "scrolled": true
   },
   "outputs": [
    {
     "name": "stdout",
     "output_type": "stream",
     "text": [
      "Defaulting to user installation because normal site-packages is not writeable\n",
      "Requirement already satisfied: cftime==1.4.1 in /home/user/.local/lib/python3.6/site-packages (1.4.1)\n",
      "Requirement already satisfied: numpy in /usr/local/lib/python3.6/dist-packages (from cftime==1.4.1) (1.18.5)\n",
      "\u001b[33mWARNING: You are using pip version 20.2.3; however, version 21.3 is available.\n",
      "You should consider upgrading via the '/usr/bin/python3 -m pip install --upgrade pip' command.\u001b[0m\n"
     ]
    }
   ],
   "source": [
    "! pip install cftime==1.4.1"
   ]
  },
  {
   "cell_type": "code",
   "execution_count": 4,
   "metadata": {},
   "outputs": [],
   "source": [
    "import sys, os\n",
    "# sys.path.insert(0, os.path.expanduser('~/.local/lib/python3.8/site-packages'))\n",
    "from netCDF4 import Dataset as netcdf \n",
    "from scipy import signal\n",
    "# import cdsapi\n",
    "from pylab import *\n",
    "import numpy as np\n",
    "import os\n",
    "import matplotlib.pyplot as plt\n",
    "import datetime\n",
    "import scipy.stats as stats\n",
    "import cftime\n",
    "from cftime import utime\n",
    "import zipfile\n",
    "import warnings\n",
    "import pandas as pd\n",
    "import statsmodels.api as sm\n",
    "warnings.simplefilter('ignore')\n",
    "import matplotlib.dates as mdateschan\n",
    "from matplotlib.dates import MonthLocator, WeekdayLocator, DateFormatter\n",
    "import matplotlib.ticker as ticker\n",
    "from matplotlib.pylab import rcParams\n",
    "import matplotlib.dates as mdates\n",
    "from matplotlib import pyplot as plt\n",
    "import cartopy.crs as ccrs\n",
    "import cartopy.feature as cfeature\n",
    "import zipfile\n",
    "import xarray as xr\n"
   ]
  },
  {
   "cell_type": "code",
   "execution_count": 2,
   "metadata": {},
   "outputs": [],
   "source": [
    "# import cdsapi\n"
   ]
  },
  {
   "cell_type": "markdown",
   "metadata": {},
   "source": [
    "# Download some data to play with \n",
    "\n",
    "Data download from Copernicus/ECMWF portal\n",
    "https://cds.climate.copernicus.eu/cdsapp#!/dataset/reanalysis-era5-single-levels-monthly-means?tab=form"
   ]
  },
  {
   "cell_type": "code",
   "execution_count": 3,
   "metadata": {},
   "outputs": [
    {
     "name": "stderr",
     "output_type": "stream",
     "text": [
      "2021-12-16 17:13:07,056 INFO Welcome to the CDS\n",
      "2021-12-16 17:13:07,058 INFO Sending request to https://cds.climate.copernicus.eu/api/v2/resources/reanalysis-era5-single-levels-monthly-means\n",
      "2021-12-16 17:13:07,228 INFO Request is completed\n",
      "2021-12-16 17:13:07,229 INFO Downloading https://download-0006.copernicus-climate.eu/cache-compute-0006/cache/data7/adaptor.mars.internal-1639673771.2697363-20583-19-798effeb-6ba3-4ae7-bb55-097da27a1b5f.nc to ./Fluxes_2019.nc (47.5M)\n",
      "2021-12-16 17:13:10,851 INFO Download rate 13.1M/s  \n"
     ]
    },
    {
     "data": {
      "text/plain": [
       "Result(content_length=49851868,content_type=application/x-netcdf,location=https://download-0006.copernicus-climate.eu/cache-compute-0006/cache/data7/adaptor.mars.internal-1639673771.2697363-20583-19-798effeb-6ba3-4ae7-bb55-097da27a1b5f.nc)"
      ]
     },
     "execution_count": 3,
     "metadata": {},
     "output_type": "execute_result"
    }
   ],
   "source": [
    "# import cdsapi\n",
    "\n",
    "# c = cdsapi.Client()\n",
    "\n",
    "# c.retrieve(\n",
    "#     'reanalysis-era5-single-levels-monthly-means',\n",
    "#     {\n",
    "#         'product_type': 'monthly_averaged_reanalysis',\n",
    "#         'variable': [\n",
    "#             'clear_sky_direct_solar_radiation_at_surface', 'downward_uv_radiation_at_the_surface', 'forecast_logarithm_of_surface_roughness_for_heat',\n",
    "#             'instantaneous_surface_sensible_heat_flux', 'near_ir_albedo_for_diffuse_radiation', 'near_ir_albedo_for_direct_radiation',\n",
    "#             'surface_latent_heat_flux', 'surface_net_solar_radiation', 'surface_net_solar_radiation_clear_sky',\n",
    "#             'surface_net_thermal_radiation', 'surface_net_thermal_radiation_clear_sky', 'surface_sensible_heat_flux',\n",
    "#             'surface_solar_radiation_downward_clear_sky', 'surface_solar_radiation_downwards', 'surface_thermal_radiation_downward_clear_sky',\n",
    "#             'surface_thermal_radiation_downwards', 'toa_incident_solar_radiation', 'top_net_solar_radiation',\n",
    "#             'top_net_solar_radiation_clear_sky', 'top_net_thermal_radiation', 'top_net_thermal_radiation_clear_sky',\n",
    "#             'total_sky_direct_solar_radiation_at_surface', 'uv_visible_albedo_for_diffuse_radiation', 'uv_visible_albedo_for_direct_radiation',\n",
    "#         ],\n",
    "#         'year': '2019',\n",
    "#         'month': [\n",
    "#               '01',\n",
    "# #             '01', '02', '03',\n",
    "# #             '04', '05', '06',\n",
    "# #             '07', '08', '09',\n",
    "# #             '10', '11', '12',\n",
    "#         ],\n",
    "#         'time': '00:00',\n",
    "#         'format': 'netcdf',\n",
    "#     },\n",
    "#     './Fluxes_2019.nc')\n",
    "# # \t'../../data/week2/Fluxes_2019.nc')"
   ]
  },
  {
   "cell_type": "code",
   "execution_count": 2,
   "metadata": {},
   "outputs": [
    {
     "name": "stdout",
     "output_type": "stream",
     "text": [
      "total 43383\r\n",
      "-rw-r--r-- 1 user user 24927560 Dec 14  2021 land_mask.nc\r\n",
      "-rw-r--r-- 1 user user 49851868 Dec 16  2021 Fluxes_2019.nc\r\n",
      "-rw-r--r-- 1 user user    75613 Oct 13 13:11 Practical1.ipynb\r\n"
     ]
    }
   ],
   "source": [
    "! ls -lrt "
   ]
  },
  {
   "cell_type": "code",
   "execution_count": 3,
   "metadata": {},
   "outputs": [
    {
     "name": "stderr",
     "output_type": "stream",
     "text": [
      "2020-10-23 09:18:18,578 INFO Welcome to the CDS\n",
      "2020-10-23 09:18:18,579 INFO Sending request to https://cds.climate.copernicus.eu/api/v2/resources/reanalysis-era5-single-levels-monthly-means\n",
      "2020-10-23 09:18:19,464 INFO Request is queued\n",
      "2020-10-23 09:18:22,160 INFO Request is running\n",
      "2020-10-23 09:18:27,983 INFO Request is completed\n",
      "2020-10-23 09:18:27,985 INFO Downloading http://136.156.133.39/cache-compute-0012/cache/data3/adaptor.mars.internal-1603444701.141617-23815-10-f3dd9cf1-717e-47f3-b50a-9ec0e07879a1.nc to ../../data/week2/land_mask.nc (23.8M)\n",
      "2020-10-23 09:18:30,509 INFO Download rate 9.4M/s   \n"
     ]
    },
    {
     "data": {
      "text/plain": [
       "Result(content_length=24927560,content_type=application/x-netcdf,location=http://136.156.133.39/cache-compute-0012/cache/data3/adaptor.mars.internal-1603444701.141617-23815-10-f3dd9cf1-717e-47f3-b50a-9ec0e07879a1.nc)"
      ]
     },
     "execution_count": 3,
     "metadata": {},
     "output_type": "execute_result"
    }
   ],
   "source": [
    "# import cdsapi\n",
    "\n",
    "# c = cdsapi.Client()\n",
    "\n",
    "# c.retrieve(\n",
    "#     'reanalysis-era5-single-levels-monthly-means',\n",
    "#     {\n",
    "#         'product_type': 'monthly_averaged_reanalysis',\n",
    "#         'variable': 'land_sea_mask',\n",
    "#         'year': '2019',\n",
    "#         'month': [\n",
    "#             '01', '02', '03',\n",
    "#             '04', '05', '06',\n",
    "#             '07', '08', '09',\n",
    "#             '10', '11', '12',\n",
    "#         ],\n",
    "#         'time': '00:00',\n",
    "#         'format': 'netcdf',\n",
    "#     },\n",
    "#     '../../data/week2/land_mask.nc')"
   ]
  },
  {
   "cell_type": "markdown",
   "metadata": {},
   "source": [
    "Some simple command line commands. ls to check what files are in the runnind directory "
   ]
  },
  {
   "cell_type": "code",
   "execution_count": 2,
   "metadata": {},
   "outputs": [
    {
     "name": "stdout",
     "output_type": "stream",
     "text": [
      "Fluxes_1979.nc\tFluxes_1979_01.nc  Fluxes_2019.nc  land_mask.nc\r\n"
     ]
    }
   ],
   "source": [
    "# ! ls ../../data/week2"
   ]
  },
  {
   "cell_type": "markdown",
   "metadata": {},
   "source": [
    "pwd to check in which directory you are currently "
   ]
  },
  {
   "cell_type": "code",
   "execution_count": 3,
   "metadata": {},
   "outputs": [
    {
     "name": "stdout",
     "output_type": "stream",
     "text": [
      "/home/user/notes/week2\r\n"
     ]
    }
   ],
   "source": [
    "# ! pwd"
   ]
  },
  {
   "cell_type": "markdown",
   "metadata": {},
   "source": [
    "# Xarray structures \n",
    "\n",
    "We can load the data into the more advanced and versatile xarray structure. \n",
    "\n",
    "For a 45 minutes intro on what these are read here https://xarray-contrib.github.io/xarray-tutorial/oceanhackweek-2020/xarray-oceanhackweek20.html"
   ]
  },
  {
   "cell_type": "code",
   "execution_count": 9,
   "metadata": {},
   "outputs": [],
   "source": [
    "# #load data\n",
    "# import xarray as xr\n",
    "# ds_1979 = xr.open_dataset('../../data/week2/Fluxes_1979.nc')\n",
    "# print(ds_1979)"
   ]
  },
  {
   "cell_type": "code",
   "execution_count": 1,
   "metadata": {},
   "outputs": [],
   "source": [
    "# ! ls .."
   ]
  },
  {
   "cell_type": "code",
   "execution_count": null,
   "metadata": {},
   "outputs": [],
   "source": [
    "#Get Fluxes_2019.nc\n",
    "! gdown --id 1bI-7ZLCCkVPNB2bAXeDg9qPnmGj_pOIy"
   ]
  },
  {
   "cell_type": "code",
   "execution_count": null,
   "metadata": {},
   "outputs": [],
   "source": [
    "#Get land_mask.nc\n",
    "! gdown --id 1bHCC6pQaxHKJjHEE9BRSLvSGGY-Cmv0e"
   ]
  },
  {
   "cell_type": "code",
   "execution_count": 2,
   "metadata": {},
   "outputs": [
    {
     "name": "stdout",
     "output_type": "stream",
     "text": [
      "<xarray.Dataset>\n",
      "Dimensions:    (latitude: 721, longitude: 1440, time: 1)\n",
      "Coordinates:\n",
      "  * longitude  (longitude) float32 0.0 0.25 0.5 0.75 ... 359.0 359.2 359.5 359.8\n",
      "  * latitude   (latitude) float32 90.0 89.75 89.5 89.25 ... -89.5 -89.75 -90.0\n",
      "  * time       (time) datetime64[ns] 2019-01-01\n",
      "Data variables:\n",
      "    cdir       (time, latitude, longitude) float32 ...\n",
      "    uvb        (time, latitude, longitude) float32 ...\n",
      "    flsr       (time, latitude, longitude) float32 ...\n",
      "    ishf       (time, latitude, longitude) float32 ...\n",
      "    alnid      (time, latitude, longitude) float32 ...\n",
      "    alnip      (time, latitude, longitude) float32 ...\n",
      "    slhf       (time, latitude, longitude) float32 ...\n",
      "    ssr        (time, latitude, longitude) float32 ...\n",
      "    ssrc       (time, latitude, longitude) float32 ...\n",
      "    str        (time, latitude, longitude) float32 ...\n",
      "    strc       (time, latitude, longitude) float32 ...\n",
      "    sshf       (time, latitude, longitude) float32 ...\n",
      "    ssrdc      (time, latitude, longitude) float32 ...\n",
      "    ssrd       (time, latitude, longitude) float32 ...\n",
      "    strdc      (time, latitude, longitude) float32 ...\n",
      "    strd       (time, latitude, longitude) float32 ...\n",
      "    tisr       (time, latitude, longitude) float32 ...\n",
      "    tsr        (time, latitude, longitude) float32 ...\n",
      "    tsrc       (time, latitude, longitude) float32 ...\n",
      "    ttr        (time, latitude, longitude) float32 ...\n",
      "    ttrc       (time, latitude, longitude) float32 ...\n",
      "    fdir       (time, latitude, longitude) float32 ...\n",
      "    aluvd      (time, latitude, longitude) float32 ...\n",
      "    aluvp      (time, latitude, longitude) float32 ...\n",
      "Attributes:\n",
      "    Conventions:  CF-1.6\n",
      "    history:      2021-12-16 16:56:12 GMT by grib_to_netcdf-2.23.0: /opt/ecmw...\n"
     ]
    }
   ],
   "source": [
    "#load data\n",
    "import xarray as xr\n",
    "ds_2019 = xr.open_dataset('./Fluxes_2019.nc')\n",
    "mask_2019 = xr.open_dataset('./land_mask.nc')\n",
    "print(ds_2019)"
   ]
  },
  {
   "cell_type": "code",
   "execution_count": 5,
   "metadata": {},
   "outputs": [],
   "source": [
    "#lons lats on a grid\n",
    "[lons, lats] = meshgrid(ds_2019.longitude, ds_2019.latitude)"
   ]
  },
  {
   "cell_type": "markdown",
   "metadata": {},
   "source": [
    "Variables are defined here\n",
    "\n",
    "https://cds.climate.copernicus.eu/cdsapp#!/dataset/reanalysis-era5-single-levels-monthly-means?tab=overview\n",
    "\n",
    "https://confluence.ecmwf.int/pages/viewpage.action?pageId=82870405"
   ]
  },
  {
   "cell_type": "code",
   "execution_count": 5,
   "metadata": {},
   "outputs": [
    {
     "name": "stdout",
     "output_type": "stream",
     "text": [
      "<xarray.DataArray 'sshf' (time: 1, latitude: 721, longitude: 1440)>\n",
      "[1038240 values with dtype=float32]\n",
      "Coordinates:\n",
      "  * longitude  (longitude) float32 0.0 0.25 0.5 0.75 ... 359.0 359.2 359.5 359.8\n",
      "  * latitude   (latitude) float32 90.0 89.75 89.5 89.25 ... -89.5 -89.75 -90.0\n",
      "  * time       (time) datetime64[ns] 2019-01-01\n",
      "Attributes:\n",
      "    units:          J m**-2\n",
      "    long_name:      Surface sensible heat flux\n",
      "    standard_name:  surface_upward_sensible_heat_flux\n"
     ]
    }
   ],
   "source": [
    "print(ds_2019.sshf)"
   ]
  },
  {
   "cell_type": "markdown",
   "metadata": {},
   "source": [
    "# Plotting \n",
    "\n",
    "Now we are ready to plot some nice maps with the fluxes that we have downloaded from ECMWF"
   ]
  },
  {
   "cell_type": "markdown",
   "metadata": {},
   "source": [
    "## First plot with a basic colorbar"
   ]
  },
  {
   "cell_type": "code",
   "execution_count": 1,
   "metadata": {},
   "outputs": [
    {
     "ename": "NameError",
     "evalue": "name 'ds_2019' is not defined",
     "output_type": "error",
     "traceback": [
      "\u001b[0;31m---------------------------------------------------------------------------\u001b[0m",
      "\u001b[0;31mNameError\u001b[0m                                 Traceback (most recent call last)",
      "\u001b[0;32m<ipython-input-1-b0e4993e8998>\u001b[0m in \u001b[0;36m<module>\u001b[0;34m\u001b[0m\n\u001b[1;32m      5\u001b[0m \u001b[0;34m\u001b[0m\u001b[0m\n\u001b[1;32m      6\u001b[0m \u001b[0;31m# t2m_test = ds.t2m.sel(time='1979-01-01', method='nearest')\u001b[0m\u001b[0;34m\u001b[0m\u001b[0;34m\u001b[0m\u001b[0;34m\u001b[0m\u001b[0m\n\u001b[0;32m----> 7\u001b[0;31m \u001b[0mfield_test\u001b[0m\u001b[0;34m=\u001b[0m\u001b[0;34m(\u001b[0m\u001b[0mds_2019\u001b[0m\u001b[0;34m.\u001b[0m\u001b[0msshf\u001b[0m\u001b[0;34m)\u001b[0m\u001b[0;34m.\u001b[0m\u001b[0msel\u001b[0m\u001b[0;34m(\u001b[0m\u001b[0mtime\u001b[0m\u001b[0;34m=\u001b[0m\u001b[0myear_str\u001b[0m\u001b[0;34m+\u001b[0m\u001b[0;34m'-'\u001b[0m\u001b[0;34m+\u001b[0m\u001b[0mmonth_str\u001b[0m\u001b[0;34m+\u001b[0m\u001b[0;34m'-01'\u001b[0m\u001b[0;34m,\u001b[0m \u001b[0mmethod\u001b[0m\u001b[0;34m=\u001b[0m\u001b[0;34m'nearest'\u001b[0m\u001b[0;34m)\u001b[0m\u001b[0;34m\u001b[0m\u001b[0;34m\u001b[0m\u001b[0m\n\u001b[0m\u001b[1;32m      8\u001b[0m \u001b[0;31m# field_test=ds_2019.sshf.sum(dim='time') #yearly average\u001b[0m\u001b[0;34m\u001b[0m\u001b[0;34m\u001b[0m\u001b[0;34m\u001b[0m\u001b[0m\n\u001b[1;32m      9\u001b[0m \u001b[0;31m# field_test=((ds_2019.sshf)/(31.*24.*3600.)).sel(time=year_str+'-'+month_str+'-01', method='nearest')\u001b[0m\u001b[0;34m\u001b[0m\u001b[0;34m\u001b[0m\u001b[0;34m\u001b[0m\u001b[0m\n",
      "\u001b[0;31mNameError\u001b[0m: name 'ds_2019' is not defined"
     ]
    }
   ],
   "source": [
    "#plot data on other projections\n",
    "\n",
    "year_str='2019'\n",
    "month_str='01'\n",
    "\n",
    "# t2m_test = ds.t2m.sel(time='1979-01-01', method='nearest')\n",
    "field_test=(ds_2019.sshf).sel(time=year_str+'-'+month_str+'-01', method='nearest')\n",
    "# field_test=ds_2019.sshf.sum(dim='time') #yearly average\n",
    "# field_test=((ds_2019.sshf)/(31.*24.*3600.)).sel(time=year_str+'-'+month_str+'-01', method='nearest')\n",
    "plt.figure()\n",
    "ax = plt.axes(projection=ccrs.Mercator())\n",
    "#     ax.stock_img()\n",
    "ax.coastlines()\n",
    "\n",
    "\n",
    "fig = plt.figure(figsize=(18,12))\n",
    "#     ax = plt.axes(projection=ccrs.Orthographic())\n",
    "ax.coastlines()\n",
    "ax.gridlines()\n",
    "# field_test.plot(ax=ax, transform=ccrs.PlateCarree(), cbar_kwargs={'shrink': 0.4})\n",
    "(field_test/86400.).plot(ax=ax, transform=ccrs.PlateCarree(), cbar_kwargs={'shrink': 0.4})\n",
    "\n",
    "\n",
    "ax.set_title('Surface Sensible Heat Flux in January 2019 (W/m^2) ')\n"
   ]
  },
  {
   "cell_type": "code",
   "execution_count": 8,
   "metadata": {},
   "outputs": [
    {
     "ename": "NameError",
     "evalue": "name 'clevsTD' is not defined",
     "output_type": "error",
     "traceback": [
      "\u001b[0;31m---------------------------------------------------------------------------\u001b[0m",
      "\u001b[0;31mNameError\u001b[0m                                 Traceback (most recent call last)",
      "\u001b[0;32m<ipython-input-8-488542107c0f>\u001b[0m in \u001b[0;36m<module>\u001b[0;34m()\u001b[0m\n\u001b[1;32m      4\u001b[0m \u001b[0;31m# clevsTD=np.arange(-2*iMinMax,+0.0001,biasContDist)\u001b[0m\u001b[0;34m\u001b[0m\u001b[0;34m\u001b[0m\u001b[0;34m\u001b[0m\u001b[0m\n\u001b[1;32m      5\u001b[0m \u001b[0;31m# clevsTD=np.arange(-iMinMax,iMinMax+0.0001,biasContDist)\u001b[0m\u001b[0;34m\u001b[0m\u001b[0;34m\u001b[0m\u001b[0;34m\u001b[0m\u001b[0m\n\u001b[0;32m----> 6\u001b[0;31m \u001b[0mprint\u001b[0m\u001b[0;34m(\u001b[0m\u001b[0mclevsTD\u001b[0m\u001b[0;34m)\u001b[0m\u001b[0;34m\u001b[0m\u001b[0;34m\u001b[0m\u001b[0m\n\u001b[0m",
      "\u001b[0;31mNameError\u001b[0m: name 'clevsTD' is not defined"
     ]
    }
   ],
   "source": [
    "# biasContDist=10\n",
    "# # iMinMax=-120\n",
    "# iMinMax=12.*biasContDist/2.+biasContDist/2.\n",
    "# clevsTD=np.arange(-2*iMinMax,+0.0001,biasContDist)\n",
    "# clevsTD=np.arange(-iMinMax,iMinMax+0.0001,biasContDist)\n",
    "print(clevsTD)"
   ]
  },
  {
   "cell_type": "markdown",
   "metadata": {},
   "source": [
    "## Surface Sensible Heat Flux (sshf)"
   ]
  },
  {
   "cell_type": "code",
   "execution_count": 7,
   "metadata": {},
   "outputs": [],
   "source": [
    "#plot data on other projections \n",
    "#https://scitools.org.uk/cartopy/docs/v0.15/crs/projections.html\n",
    "plt.clf()\n",
    "year_str='2019'\n",
    "month_str='01'\n",
    "\n",
    "# t2m_test = ds.t2m.sel(time='1979-01-01', method='nearest')\n",
    "field_test=(ds_2019.sshf).sel(time=year_str+'-'+month_str+'-01', method='nearest')\n",
    "\n",
    "# t2m_test = ds.t2m.sel(time='1979-01-01', method='nearest')\n",
    "# field_test=(ds_2019.sshf).sel(time=year_str+'-'+month_str+'-01', method='nearest')\n",
    "# field_test=ds_2019.slhf.mean(dim='time') #yearly average\n",
    "# field_test=((ds_2019.sshf)/(31.*24.*3600.)).sel(time=year_str+'-'+month_str+'-01', method='nearest')\n",
    "plt.figure()\n",
    "ax = plt.axes(projection=ccrs.Mercator(central_longitude=180))\n",
    "#     ax.stock_img()\n",
    "ax.coastlines()\n",
    "\n",
    "biasContDist=10\n",
    "# iMinMax=-120\n",
    "iMinMax=12.*biasContDist/2.+biasContDist/2.\n",
    "clevsTD=np.arange(-2*iMinMax,+0.0001,biasContDist)\n",
    "\n",
    "fig = plt.figure(figsize=(24,12))\n",
    "#     ax = plt.axes(projection=ccrs.Orthographic())\n",
    "ax.coastlines()\n",
    "ax.gridlines()\n",
    "(field_test/86400.).plot.contourf(ax=ax, transform=ccrs.PlateCarree(), clevel=clevsTD, extend='both', cmap='coolwarm', vmin=-130, vmax=0, cbar_kwargs={'shrink': 0.4})\n",
    "\n",
    "\n",
    "ax.set_title('Surface Sensible Heat Flux in January 2019 (W/m^2) ')\n"
   ]
  },
  {
   "cell_type": "markdown",
   "metadata": {},
   "source": [
    "## Surface Latent Heat Flux (slhf) selected month (i.e. January 2019)"
   ]
  },
  {
   "cell_type": "code",
   "execution_count": 8,
   "metadata": {},
   "outputs": [
    {
     "name": "stdout",
     "output_type": "stream",
     "text": [
      "ERROR! Session/line number was not unique in database. History logging moved to new session 19\n"
     ]
    },
    {
     "data": {
      "text/plain": [
       "Text(0.5, 1.0, 'Surface Latent Heat Flux for January 2019 (W/m^2)')"
      ]
     },
     "execution_count": 8,
     "metadata": {},
     "output_type": "execute_result"
    },
    {
     "data": {
      "text/plain": [
       "<Figure size 864x504 with 0 Axes>"
      ]
     },
     "execution_count": 8,
     "metadata": {},
     "output_type": "execute_result"
    },
    {
     "data": {
      "image/png": "[encoded data removed]",
      "text/plain": [
       "<Figure size 864x504 with 2 Axes>"
      ]
     },
     "execution_count": 8,
     "metadata": {
      "image/png": {
       "height": 410,
       "width": 557
      },
      "needs_background": "light"
     },
     "output_type": "execute_result"
    },
    {
     "data": {
      "text/plain": [
       "<Figure size 1296x864 with 0 Axes>"
      ]
     },
     "execution_count": 8,
     "metadata": {},
     "output_type": "execute_result"
    }
   ],
   "source": [
    "#plot data on other projections \n",
    "#https://scitools.org.uk/cartopy/docs/v0.15/crs/projections.html\n",
    "plt.clf()\n",
    "\n",
    "# t2m_test = ds.t2m.sel(time='1979-01-01', method='nearest')\n",
    "# field_test=(ds_2019.sshf).sel(time=year_str+'-'+month_str+'-01', method='nearest')\n",
    "field_test=(ds_2019.sshf).sel(time=year_str+'-'+month_str+'-01', method='nearest')\n",
    "# field_test=((ds_2019.sshf)/(31.*24.*3600.)).sel(time=year_str+'-'+month_str+'-01', method='nearest')\n",
    "plt.figure()\n",
    "ax = plt.axes(projection=ccrs.Mercator(central_longitude=180))\n",
    "#     ax.stock_img()\n",
    "ax.coastlines()\n",
    "\n",
    "biasContDist=20\n",
    "# iMinMax=-120\n",
    "iMinMax=12.*biasContDist/2.+biasContDist/2.\n",
    "clevsTD=np.arange(-2*iMinMax,+0.0001,biasContDist)\n",
    "\n",
    "fig = plt.figure(figsize=(18,12))\n",
    "#     ax = plt.axes(projection=ccrs.Orthographic())\n",
    "ax.coastlines()\n",
    "ax.gridlines()\n",
    "(field_test/86400.).plot.contourf(ax=ax, transform=ccrs.PlateCarree(), clevel=clevsTD, extend='both', cmap='coolwarm', vmin=-260, vmax=0, cbar_kwargs={'shrink': 0.4})\n",
    "\n",
    "\n",
    "ax.set_title('Surface Latent Heat Flux for January 2019 (W/m^2)')\n"
   ]
  },
  {
   "cell_type": "markdown",
   "metadata": {},
   "source": [
    "## The Bowden ration = Qh / Qe = sshf / slhf"
   ]
  },
  {
   "cell_type": "code",
   "execution_count": 6,
   "metadata": {},
   "outputs": [
    {
     "data": {
      "text/plain": [
       "Text(0.5, 1.0, 'Bowen ratio R = Qh/Qe for July 2019 (W/m^2)')"
      ]
     },
     "execution_count": 6,
     "metadata": {},
     "output_type": "execute_result"
    },
    {
     "data": {
      "text/plain": [
       "<Figure size 864x504 with 0 Axes>"
      ]
     },
     "execution_count": 6,
     "metadata": {},
     "output_type": "execute_result"
    },
    {
     "data": {
      "image/png": "[encoded data removed]",
      "text/plain": [
       "<Figure size 864x504 with 2 Axes>"
      ]
     },
     "execution_count": 6,
     "metadata": {
      "image/png": {
       "height": 410,
       "width": 535
      },
      "needs_background": "light"
     },
     "output_type": "execute_result"
    },
    {
     "data": {
      "text/plain": [
       "<Figure size 1296x864 with 0 Axes>"
      ]
     },
     "execution_count": 6,
     "metadata": {},
     "output_type": "execute_result"
    }
   ],
   "source": [
    "#plot data on other projections \n",
    "#https://scitools.org.uk/cartopy/docs/v0.15/crs/projections.html\n",
    "plt.clf()\n",
    "year_str='2019'\n",
    "month_str='07'\n",
    "\n",
    "# t2m_test = ds.t2m.sel(time='1979-01-01', method='nearest')\n",
    "# field_test=(ds_2019.sshf).sel(time=year_str+'-'+month_str+'-01', method='nearest')\n",
    "field_test1=(ds_2019.sshf).sel(time=year_str+'-'+month_str+'-01', method='nearest')\n",
    "field_test2=(ds_2019.slhf).sel(time=year_str+'-'+month_str+'-01', method='nearest')\n",
    "# field_test=((ds_2019.sshf)/(31.*24.*3600.)).sel(time=year_str+'-'+month_str+'-01', method='nearest')\n",
    "plt.figure()\n",
    "ax = plt.axes(projection=ccrs.Mercator(central_longitude=180))\n",
    "#     ax.stock_img()\n",
    "ax.coastlines()\n",
    "\n",
    "biasContDist=0.1\n",
    "# iMinMax=-120\n",
    "iMinMax=12.*biasContDist/2.+biasContDist/2.\n",
    "clevsTD=np.arange(0,2*iMinMax+0.0001,biasContDist)\n",
    "\n",
    "fig = plt.figure(figsize=(18,12))\n",
    "#     ax = plt.axes(projection=ccrs.Orthographic())\n",
    "ax.coastlines()\n",
    "ax.gridlines()\n",
    "(field_test1/field_test2).plot.contourf(ax=ax, transform=ccrs.PlateCarree(), clevel=clevsTD, extend='both', cmap='coolwarm', vmin=0, vmax=1, cbar_kwargs={'shrink': 0.4})\n",
    "\n",
    "\n",
    "ax.set_title('Bowen ratio R = Qh/Qe for July 2019 (W/m^2)')\n"
   ]
  },
  {
   "cell_type": "markdown",
   "metadata": {},
   "source": [
    "## Surface fluxes for the whole year 2019"
   ]
  },
  {
   "cell_type": "code",
   "execution_count": 10,
   "metadata": {},
   "outputs": [],
   "source": [
    "#plot data on other projections \n",
    "#https://scitools.org.uk/cartopy/docs/v0.15/crs/projections.html\n",
    "plt.clf()\n",
    "\n",
    "# t2m_test = ds.t2m.sel(time='1979-01-01', method='nearest')\n",
    "# field_test=(ds_2019.sshf).sel(time=year_str+'-'+month_str+'-01', method='nearest')\n",
    "field_test=ds_2019.slhf.mean(dim='time') #yearly average\n",
    "# field_test=((ds_2019.sshf)/(31.*24.*3600.)).sel(time=year_str+'-'+month_str+'-01', method='nearest')\n",
    "plt.figure()\n",
    "ax = plt.axes(projection=ccrs.Mercator(central_longitude=180))\n",
    "#     ax.stock_img()\n",
    "ax.coastlines()\n",
    "\n",
    "biasContDist=20\n",
    "# iMinMax=-120\n",
    "iMinMax=12.*biasContDist/2.+biasContDist/2.\n",
    "clevsTD=np.arange(-2*iMinMax,+0.0001,biasContDist)\n",
    "\n",
    "fig = plt.figure(figsize=(18,12))\n",
    "#     ax = plt.axes(projection=ccrs.Orthographic())\n",
    "ax.coastlines()\n",
    "ax.gridlines()\n",
    "(field_test/86400.).plot.contourf(ax=ax, transform=ccrs.PlateCarree(), clevel=clevsTD, extend='both', cmap='coolwarm', vmin=-260, vmax=0, cbar_kwargs={'shrink': 0.4})\n",
    "\n",
    "\n",
    "ax.set_title('Surface Latent Heat Flux for 2019')\n",
    "    "
   ]
  },
  {
   "cell_type": "code",
   "execution_count": 44,
   "metadata": {},
   "outputs": [
    {
     "data": {
      "text/plain": [
       "Text(0.5, 1.0, 'Surface Sensible Heat Flux for 2019 (W/m^2)')"
      ]
     },
     "execution_count": 44,
     "metadata": {},
     "output_type": "execute_result"
    },
    {
     "data": {
      "text/plain": [
       "<Figure size 864x504 with 0 Axes>"
      ]
     },
     "execution_count": 44,
     "metadata": {},
     "output_type": "execute_result"
    },
    {
     "data": {
      "image/png": "[encoded data removed]",
      "text/plain": [
       "<Figure size 864x504 with 2 Axes>"
      ]
     },
     "execution_count": 44,
     "metadata": {
      "image/png": {
       "height": 410,
       "width": 557
      },
      "needs_background": "light"
     },
     "output_type": "execute_result"
    },
    {
     "data": {
      "text/plain": [
       "<Figure size 1296x864 with 0 Axes>"
      ]
     },
     "execution_count": 44,
     "metadata": {},
     "output_type": "execute_result"
    }
   ],
   "source": [
    "#plot data on other projections\n",
    "plt.clf()\n",
    "\n",
    "# t2m_test = ds.t2m.sel(time='1979-01-01', method='nearest')\n",
    "# field_test=(ds_2019.sshf).sel(time=year_str+'-'+month_str+'-01', method='nearest')\n",
    "field_test=ds_2019.sshf.mean(dim='time') #yearly average\n",
    "# field_test=((ds_2019.sshf)/(31.*24.*3600.)).sel(time=year_str+'-'+month_str+'-01', method='nearest')\n",
    "plt.figure()\n",
    "ax = plt.axes(projection=ccrs.Mercator(central_longitude=180))\n",
    "#     ax.stock_img()\n",
    "ax.coastlines()\n",
    "\n",
    "biasContDist=10\n",
    "# iMinMax=-120\n",
    "iMinMax=12.*biasContDist/2.+biasContDist/2.\n",
    "clevsTD=np.arange(-2*iMinMax,+0.0001,biasContDist)\n",
    "\n",
    "fig = plt.figure(figsize=(18,12))\n",
    "#     ax = plt.axes(projection=ccrs.Orthographic())\n",
    "ax.coastlines()\n",
    "ax.gridlines()\n",
    "(field_test/86400.).plot.contourf(ax=ax, transform=ccrs.PlateCarree(), clevel=clevsTD, extend='both', cmap='coolwarm', vmin=-130, vmax=0, cbar_kwargs={'shrink': 0.4})\n",
    "\n",
    "\n",
    "ax.set_title('Surface Sensible Heat Flux for 2019 (W/m^2)')\n"
   ]
  },
  {
   "cell_type": "code",
   "execution_count": 47,
   "metadata": {},
   "outputs": [
    {
     "data": {
      "text/plain": [
       "Text(0.5, 1.0, 'Surface Net Solar Radiation for 2019 (W/m^2)')"
      ]
     },
     "execution_count": 47,
     "metadata": {},
     "output_type": "execute_result"
    },
    {
     "data": {
      "text/plain": [
       "<Figure size 864x504 with 0 Axes>"
      ]
     },
     "execution_count": 47,
     "metadata": {},
     "output_type": "execute_result"
    },
    {
     "data": {
      "image/png": "[encoded data removed]",
      "text/plain": [
       "<Figure size 864x504 with 2 Axes>"
      ]
     },
     "execution_count": 47,
     "metadata": {
      "image/png": {
       "height": 410,
       "width": 549
      },
      "needs_background": "light"
     },
     "output_type": "execute_result"
    },
    {
     "data": {
      "text/plain": [
       "<Figure size 1296x864 with 0 Axes>"
      ]
     },
     "execution_count": 47,
     "metadata": {},
     "output_type": "execute_result"
    }
   ],
   "source": [
    "#plot data on other projections\n",
    "plt.clf()\n",
    "\n",
    "# t2m_test = ds.t2m.sel(time='1979-01-01', method='nearest')\n",
    "# field_test=(ds_2019.sshf).sel(time=year_str+'-'+month_str+'-01', method='nearest')\n",
    "field_test=ds_2019.ssr.mean(dim='time') #yearly average\n",
    "# field_test=((ds_2019.sshf)/(31.*24.*3600.)).sel(time=year_str+'-'+month_str+'-01', method='nearest')\n",
    "plt.figure()\n",
    "ax = plt.axes(projection=ccrs.Mercator(central_longitude=180))\n",
    "#     ax.stock_img()\n",
    "ax.coastlines()\n",
    "\n",
    "biasContDist=10\n",
    "# iMinMax=-120\n",
    "iMinMax=12.*biasContDist/2.+biasContDist/2.\n",
    "# clevsTD=np.arange(-2*iMinMax,+0.0001,biasContDist)\n",
    "clevsTD=np.arange(0.,+2*iMinMax+0.0001,biasContDist)\n",
    "\n",
    "fig = plt.figure(figsize=(18,12))\n",
    "#     ax = plt.axes(projection=ccrs.Orthographic())\n",
    "ax.coastlines()\n",
    "ax.gridlines()\n",
    "(field_test/86400.).plot.contourf(ax=ax, transform=ccrs.PlateCarree(), clevel=clevsTD, extend='both', cmap='coolwarm', vmin=0, vmax=130, cbar_kwargs={'shrink': 0.4})\n",
    "\n",
    "\n",
    "ax.set_title('Surface Net Solar Radiation for 2019 (W/m^2)')\n"
   ]
  },
  {
   "cell_type": "code",
   "execution_count": 48,
   "metadata": {},
   "outputs": [
    {
     "data": {
      "text/plain": [
       "Text(0.5, 1.0, 'Surface Net Thermal Radiation for 2019 (W/m^2)')"
      ]
     },
     "execution_count": 48,
     "metadata": {},
     "output_type": "execute_result"
    },
    {
     "data": {
      "text/plain": [
       "<Figure size 864x504 with 0 Axes>"
      ]
     },
     "execution_count": 48,
     "metadata": {},
     "output_type": "execute_result"
    },
    {
     "data": {
      "image/png": "[encoded data removed]",
      "text/plain": [
       "<Figure size 864x504 with 2 Axes>"
      ]
     },
     "execution_count": 48,
     "metadata": {
      "image/png": {
       "height": 410,
       "width": 557
      },
      "needs_background": "light"
     },
     "output_type": "execute_result"
    },
    {
     "data": {
      "text/plain": [
       "<Figure size 1296x864 with 0 Axes>"
      ]
     },
     "execution_count": 48,
     "metadata": {},
     "output_type": "execute_result"
    }
   ],
   "source": [
    "#plot data on other projections\n",
    "plt.clf()\n",
    "\n",
    "# t2m_test = ds.t2m.sel(time='1979-01-01', method='nearest')\n",
    "# field_test=(ds_2019.sshf).sel(time=year_str+'-'+month_str+'-01', method='nearest')\n",
    "field_test=ds_2019.str.mean(dim='time') #yearly average\n",
    "# field_test=((ds_2019.sshf)/(31.*24.*3600.)).sel(time=year_str+'-'+month_str+'-01', method='nearest')\n",
    "plt.figure()\n",
    "ax = plt.axes(projection=ccrs.Mercator(central_longitude=180))\n",
    "#     ax.stock_img()\n",
    "ax.coastlines()\n",
    "\n",
    "biasContDist=10\n",
    "# iMinMax=-120\n",
    "iMinMax=12.*biasContDist/2.+biasContDist/2.\n",
    "# clevsTD=np.arange(-2*iMinMax,+0.0001,biasContDist)\n",
    "clevsTD=np.arange(-2*iMinMax,0.0001,biasContDist)\n",
    "\n",
    "fig = plt.figure(figsize=(18,12))\n",
    "#     ax = plt.axes(projection=ccrs.Orthographic())\n",
    "ax.coastlines()\n",
    "ax.gridlines()\n",
    "(field_test/86400.).plot.contourf(ax=ax, transform=ccrs.PlateCarree(), clevel=clevsTD, extend='both', cmap='coolwarm', vmin=-130, vmax=0, cbar_kwargs={'shrink': 0.4})\n",
    "\n",
    "\n",
    "ax.set_title('Surface Net Thermal Radiation for 2019 (W/m^2)')\n"
   ]
  },
  {
   "cell_type": "code",
   "execution_count": 50,
   "metadata": {},
   "outputs": [
    {
     "data": {
      "text/plain": [
       "Text(0.5, 1.0, 'Surface Net budget for 2019 (W/m^2)')"
      ]
     },
     "execution_count": 50,
     "metadata": {},
     "output_type": "execute_result"
    },
    {
     "data": {
      "text/plain": [
       "<Figure size 864x504 with 0 Axes>"
      ]
     },
     "execution_count": 50,
     "metadata": {},
     "output_type": "execute_result"
    },
    {
     "data": {
      "image/png": "[encoded data removed]",
      "text/plain": [
       "<Figure size 864x504 with 2 Axes>"
      ]
     },
     "execution_count": 50,
     "metadata": {
      "image/png": {
       "height": 410,
       "width": 537
      },
      "needs_background": "light"
     },
     "output_type": "execute_result"
    },
    {
     "data": {
      "text/plain": [
       "<Figure size 1296x864 with 0 Axes>"
      ]
     },
     "execution_count": 50,
     "metadata": {},
     "output_type": "execute_result"
    }
   ],
   "source": [
    "#plot data on other projections\n",
    "plt.clf()\n",
    "\n",
    "# t2m_test = ds.t2m.sel(time='1979-01-01', method='nearest')\n",
    "# field_test=(ds_2019.sshf).sel(time=year_str+'-'+month_str+'-01', method='nearest')\n",
    "field_test=ds_2019.str.mean(dim='time')+ds_2019.ssr.mean(dim='time')+ds_2019.sshf.mean(dim='time')+ds_2019.slhf.mean(dim='time')\n",
    "# field_test=((ds_2019.sshf)/(31.*24.*3600.)).sel(time=year_str+'-'+month_str+'-01', method='nearest')\n",
    "plt.figure()\n",
    "ax = plt.axes(projection=ccrs.Mercator(central_longitude=180))\n",
    "#     ax.stock_img()\n",
    "ax.coastlines()\n",
    "\n",
    "biasContDist=10\n",
    "# iMinMax=-120\n",
    "iMinMax=12.*biasContDist/2.+biasContDist/2.\n",
    "# clevsTD=np.arange(-2*iMinMax,+0.0001,biasContDist)\n",
    "clevsTD=np.arange(-iMinMax,iMinMax+0.0001,biasContDist)\n",
    "\n",
    "fig = plt.figure(figsize=(18,12))\n",
    "#     ax = plt.axes(projection=ccrs.Orthographic())\n",
    "ax.coastlines()\n",
    "ax.gridlines()\n",
    "(field_test/86400.).plot.contourf(ax=ax, transform=ccrs.PlateCarree(), clevel=clevsTD, extend='both', cmap='coolwarm', vmin=-65, vmax=65, cbar_kwargs={'shrink': 0.4})\n",
    "\n",
    "\n",
    "ax.set_title('Surface Net budget for 2019 (W/m^2)')\n"
   ]
  },
  {
   "cell_type": "markdown",
   "metadata": {},
   "source": [
    "Compare with 1979"
   ]
  },
  {
   "cell_type": "code",
   "execution_count": 12,
   "metadata": {},
   "outputs": [
    {
     "data": {
      "text/plain": [
       "Text(0.5, 1.0, 'Surface Net budget for 1979 (W/m^2)')"
      ]
     },
     "execution_count": 12,
     "metadata": {},
     "output_type": "execute_result"
    },
    {
     "data": {
      "text/plain": [
       "<Figure size 864x504 with 0 Axes>"
      ]
     },
     "execution_count": 12,
     "metadata": {},
     "output_type": "execute_result"
    },
    {
     "data": {
      "image/png": "[encoded data removed]",
      "text/plain": [
       "<Figure size 864x504 with 2 Axes>"
      ]
     },
     "execution_count": 12,
     "metadata": {
      "image/png": {
       "height": 410,
       "width": 537
      },
      "needs_background": "light"
     },
     "output_type": "execute_result"
    },
    {
     "data": {
      "text/plain": [
       "<Figure size 1296x864 with 0 Axes>"
      ]
     },
     "execution_count": 12,
     "metadata": {},
     "output_type": "execute_result"
    }
   ],
   "source": [
    "#plot data on other projections\n",
    "plt.clf()\n",
    "\n",
    "# t2m_test = ds.t2m.sel(time='1979-01-01', method='nearest')\n",
    "# field_test=(ds_2019.sshf).sel(time=year_str+'-'+month_str+'-01', method='nearest')\n",
    "field_test2=ds_1979.str.mean(dim='time')+ds_1979.ssr.mean(dim='time')+ds_1979.sshf.mean(dim='time')+ds_1979.slhf.mean(dim='time')\n",
    "# field_test=((ds_2019.sshf)/(31.*24.*3600.)).sel(time=year_str+'-'+month_str+'-01', method='nearest')\n",
    "plt.figure()\n",
    "ax = plt.axes(projection=ccrs.Mercator(central_longitude=180))\n",
    "#     ax.stock_img()\n",
    "ax.coastlines()\n",
    "\n",
    "biasContDist=10\n",
    "# iMinMax=-120\n",
    "iMinMax=12.*biasContDist/2.+biasContDist/2.\n",
    "# clevsTD=np.arange(-2*iMinMax,+0.0001,biasContDist)\n",
    "clevsTD=np.arange(-iMinMax,iMinMax+0.0001,biasContDist)\n",
    "\n",
    "fig = plt.figure(figsize=(18,12))\n",
    "#     ax = plt.axes(projection=ccrs.Orthographic())\n",
    "ax.coastlines()\n",
    "ax.gridlines()\n",
    "(field_test2/86400.).plot.contourf(ax=ax, transform=ccrs.PlateCarree(), clevel=clevsTD, extend='both', cmap='coolwarm', vmin=-65, vmax=65, cbar_kwargs={'shrink': 0.4})\n",
    "\n",
    "\n",
    "ax.set_title('Surface Net budget for 1979 (W/m^2)')\n"
   ]
  },
  {
   "cell_type": "code",
   "execution_count": 13,
   "metadata": {},
   "outputs": [
    {
     "data": {
      "text/plain": [
       "Text(0.5, 1.0, 'Difference in Surface Net budget 2019 - 1979 (W/m^2)')"
      ]
     },
     "execution_count": 13,
     "metadata": {},
     "output_type": "execute_result"
    },
    {
     "data": {
      "text/plain": [
       "<Figure size 864x504 with 0 Axes>"
      ]
     },
     "execution_count": 13,
     "metadata": {},
     "output_type": "execute_result"
    },
    {
     "data": {
      "image/png": "[encoded data removed]",
      "text/plain": [
       "<Figure size 864x504 with 2 Axes>"
      ]
     },
     "execution_count": 13,
     "metadata": {
      "image/png": {
       "height": 410,
       "width": 544
      },
      "needs_background": "light"
     },
     "output_type": "execute_result"
    },
    {
     "data": {
      "text/plain": [
       "<Figure size 1296x864 with 0 Axes>"
      ]
     },
     "execution_count": 13,
     "metadata": {},
     "output_type": "execute_result"
    }
   ],
   "source": [
    "#plot data on other projections\n",
    "plt.clf()\n",
    "field_test=ds_2019.str.mean(dim='time')+ds_2019.ssr.mean(dim='time')+ds_2019.sshf.mean(dim='time')+ds_2019.slhf.mean(dim='time')\n",
    "field_test2=ds_1979.str.mean(dim='time')+ds_1979.ssr.mean(dim='time')+ds_1979.sshf.mean(dim='time')+ds_1979.slhf.mean(dim='time')\n",
    "\n",
    "plt.figure()\n",
    "ax = plt.axes(projection=ccrs.Mercator(central_longitude=180))\n",
    "#     ax.stock_img()\n",
    "ax.coastlines()\n",
    "\n",
    "biasContDist=2\n",
    "# iMinMax=-120\n",
    "iMinMax=12.*biasContDist/2.+biasContDist/2.\n",
    "# clevsTD=np.arange(-2*iMinMax,+0.0001,biasContDist)\n",
    "clevsTD=np.arange(-iMinMax,iMinMax+0.0001,biasContDist)\n",
    "\n",
    "fig = plt.figure(figsize=(18,12))\n",
    "#     ax = plt.axes(projection=ccrs.Orthographic())\n",
    "ax.coastlines()\n",
    "ax.gridlines()\n",
    "((field_test-field_test2)/86400.).plot.contourf(ax=ax, transform=ccrs.PlateCarree(), clevel=clevsTD, extend='both', cmap='coolwarm', vmin=-13, vmax=13, cbar_kwargs={'shrink': 0.4})\n",
    "\n",
    "\n",
    "ax.set_title('Difference in Surface Net budget 2019 - 1979 (W/m^2)')\n"
   ]
  },
  {
   "cell_type": "markdown",
   "metadata": {},
   "source": [
    "# Projections \n",
    "\n",
    "Change the projection \n",
    "\n",
    "https://scitools.org.uk/cartopy/docs/v0.15/crs/projections.html"
   ]
  },
  {
   "cell_type": "code",
   "execution_count": 31,
   "metadata": {},
   "outputs": [
    {
     "data": {
      "text/plain": [
       "Text(0.5, 1.0, 'Surface Net budget for 2019 (W/m^2)')"
      ]
     },
     "execution_count": 31,
     "metadata": {},
     "output_type": "execute_result"
    },
    {
     "data": {
      "text/plain": [
       "<Figure size 864x504 with 0 Axes>"
      ]
     },
     "execution_count": 31,
     "metadata": {},
     "output_type": "execute_result"
    },
    {
     "data": {
      "image/png": "[encoded data removed]",
      "text/plain": [
       "<Figure size 864x504 with 2 Axes>"
      ]
     },
     "execution_count": 31,
     "metadata": {
      "image/png": {
       "height": 410,
       "width": 473
      },
      "needs_background": "light"
     },
     "output_type": "execute_result"
    },
    {
     "data": {
      "text/plain": [
       "<Figure size 1296x864 with 0 Axes>"
      ]
     },
     "execution_count": 31,
     "metadata": {},
     "output_type": "execute_result"
    }
   ],
   "source": [
    "#plot data on other projections\n",
    "plt.clf()\n",
    "\n",
    "# t2m_test = ds.t2m.sel(time='1979-01-01', method='nearest')\n",
    "# field_test=(ds_2019.sshf).sel(time=year_str+'-'+month_str+'-01', method='nearest')\n",
    "field_test=ds_2019.str.mean(dim='time')+ds_2019.ssr.mean(dim='time')+ds_2019.sshf.mean(dim='time')+ds_2019.slhf.mean(dim='time')\n",
    "# field_test=((ds_2019.sshf)/(31.*24.*3600.)).sel(time=year_str+'-'+month_str+'-01', method='nearest')\n",
    "plt.figure()\n",
    "# ax = plt.axes(projection=ccrs.Mercator(central_longitude=180))\n",
    "# ax = plt.axes(projection=ccrs.NorthPolarStereo())\n",
    "ax = plt.axes(projection=ccrs.Orthographic(0, 90))\n",
    "\n",
    "\n",
    "#     ax.stock_img()\n",
    "ax.coastlines()\n",
    "\n",
    "biasContDist=10\n",
    "# iMinMax=-120\n",
    "iMinMax=12.*biasContDist/2.+biasContDist/2.\n",
    "# clevsTD=np.arange(-2*iMinMax,+0.0001,biasContDist)\n",
    "clevsTD=np.arange(-iMinMax,iMinMax+0.0001,biasContDist)\n",
    "\n",
    "fig = plt.figure(figsize=(18,12))\n",
    "#     ax = plt.axes(projection=ccrs.Orthographic())\n",
    "ax.coastlines()\n",
    "ax.gridlines()\n",
    "(field_test/86400.).plot.contourf(ax=ax, transform=ccrs.PlateCarree(), clevel=clevsTD, extend='both', cmap='coolwarm', vmin=-65, vmax=65, cbar_kwargs={'shrink': 0.4})\n",
    "\n",
    "\n",
    "ax.set_title('Surface Net budget for 2019 (W/m^2)')\n"
   ]
  },
  {
   "cell_type": "code",
   "execution_count": 32,
   "metadata": {},
   "outputs": [
    {
     "data": {
      "text/plain": [
       "Text(0.5, 1.0, 'Surface Net budget for 2019 (W/m^2)')"
      ]
     },
     "execution_count": 32,
     "metadata": {},
     "output_type": "execute_result"
    },
    {
     "data": {
      "text/plain": [
       "<Figure size 864x504 with 0 Axes>"
      ]
     },
     "execution_count": 32,
     "metadata": {},
     "output_type": "execute_result"
    },
    {
     "data": {
      "image/png": "[encoded data removed]",
      "text/plain": [
       "<Figure size 864x504 with 2 Axes>"
      ]
     },
     "execution_count": 32,
     "metadata": {
      "image/png": {
       "height": 410,
       "width": 473
      },
      "needs_background": "light"
     },
     "output_type": "execute_result"
    },
    {
     "data": {
      "text/plain": [
       "<Figure size 1296x864 with 0 Axes>"
      ]
     },
     "execution_count": 32,
     "metadata": {},
     "output_type": "execute_result"
    }
   ],
   "source": [
    "#plot data on other projections\n",
    "plt.clf()\n",
    "\n",
    "# t2m_test = ds.t2m.sel(time='1979-01-01', method='nearest')\n",
    "# field_test=(ds_2019.sshf).sel(time=year_str+'-'+month_str+'-01', method='nearest')\n",
    "field_test=ds_2019.str.mean(dim='time')+ds_2019.ssr.mean(dim='time')+ds_2019.sshf.mean(dim='time')+ds_2019.slhf.mean(dim='time')\n",
    "# field_test=((ds_2019.sshf)/(31.*24.*3600.)).sel(time=year_str+'-'+month_str+'-01', method='nearest')\n",
    "plt.figure()\n",
    "# ax = plt.axes(projection=ccrs.Mercator(central_longitude=180))\n",
    "# ax = plt.axes(projection=ccrs.NorthPolarStereo())\n",
    "ax = plt.axes(projection=ccrs.Orthographic(0, 90))\n",
    "\n",
    "\n",
    "#     ax.stock_img()\n",
    "ax.coastlines()\n",
    "\n",
    "biasContDist=10\n",
    "# iMinMax=-120\n",
    "iMinMax=12.*biasContDist/2.+biasContDist/2.\n",
    "# clevsTD=np.arange(-2*iMinMax,+0.0001,biasContDist)\n",
    "clevsTD=np.arange(-iMinMax,iMinMax+0.0001,biasContDist)\n",
    "\n",
    "fig = plt.figure(figsize=(18,12))\n",
    "#     ax = plt.axes(projection=ccrs.Orthographic())\n",
    "ax.coastlines()\n",
    "ax.gridlines()\n",
    "(field_test/86400.).plot.contourf(ax=ax, transform=ccrs.PlateCarree(), clevel=clevsTD, extend='both', cmap='coolwarm', vmin=-65, vmax=65, cbar_kwargs={'shrink': 0.4})\n",
    "\n",
    "\n",
    "ax.set_title('Surface Net budget for 2019 (W/m^2)')\n"
   ]
  },
  {
   "cell_type": "markdown",
   "metadata": {},
   "source": [
    "# Some analysis of the data \n",
    "\n",
    "Analyse average as a function of latitude\n",
    "\n",
    "https://xarray-contrib.github.io/xarray-tutorial/oceanhackweek-2020/xarray-oceanhackweek20.html"
   ]
  },
  {
   "cell_type": "code",
   "execution_count": 8,
   "metadata": {},
   "outputs": [
    {
     "name": "stdout",
     "output_type": "stream",
     "text": [
      "<xarray.DataArray (latitude: 721, longitude: 1440)>\n",
      "array([[-785589.06 , -785589.06 , -785589.06 , ..., -785589.06 ,\n",
      "        -785589.06 , -785589.06 ],\n",
      "       [-857885.4  , -857833.2  , -857607.9  , ..., -858250.75 ,\n",
      "        -858143.75 , -857935.4  ],\n",
      "       [-910079.94 , -909728.9  , -909421.25 , ..., -910620.75 ,\n",
      "        -910498.25 , -910599.06 ],\n",
      "       ...,\n",
      "       [  10992.709,   10908.709,   10850.334, ...,   11013.334,\n",
      "          11017.334,   11014.834],\n",
      "       [   7172.416,    7219.166,    7247.416, ...,    7364.584,\n",
      "           7261.166,    7289.541],\n",
      "       [   3576.875,    3576.875,    3576.875, ...,    3576.875,\n",
      "           3576.875,    3576.875]], dtype=float32)\n",
      "Coordinates:\n",
      "  * longitude  (longitude) float32 0.0 0.25 0.5 0.75 ... 359.25 359.5 359.75\n",
      "  * latitude   (latitude) float32 90.0 89.75 89.5 89.25 ... -89.5 -89.75 -90.0\n"
     ]
    }
   ],
   "source": [
    "field_test=ds_2019.str.mean(dim='time')+ds_2019.ssr.mean(dim='time')+ds_2019.sshf.mean(dim='time')+ds_2019.slhf.mean(dim='time')\n",
    "print(field_test)"
   ]
  },
  {
   "cell_type": "code",
   "execution_count": 27,
   "metadata": {},
   "outputs": [
    {
     "ename": "NameError",
     "evalue": "name 'lats' is not defined",
     "output_type": "error",
     "traceback": [
      "\u001b[0;31m---------------------------------------------------------------------------\u001b[0m",
      "\u001b[0;31mNameError\u001b[0m                                 Traceback (most recent call last)",
      "\u001b[0;32m<ipython-input-27-0085cc9e5f93>\u001b[0m in \u001b[0;36m<module>\u001b[0;34m\u001b[0m\n\u001b[0;32m----> 1\u001b[0;31m \u001b[0mlats\u001b[0m\u001b[0;34m.\u001b[0m\u001b[0mshape\u001b[0m\u001b[0;34m\u001b[0m\u001b[0;34m\u001b[0m\u001b[0m\n\u001b[0m",
      "\u001b[0;31mNameError\u001b[0m: name 'lats' is not defined"
     ]
    }
   ],
   "source": [
    "lats.shape"
   ]
  },
  {
   "cell_type": "markdown",
   "metadata": {},
   "source": [
    "Weighted means \n",
    "\n",
    "http://xarray.pydata.org/en/stable/examples/area_weighted_temperature.html\n",
    "\n"
   ]
  },
  {
   "cell_type": "code",
   "execution_count": 15,
   "metadata": {
    "scrolled": true
   },
   "outputs": [
    {
     "name": "stdout",
     "output_type": "stream",
     "text": [
      "<xarray.DataArray 'weights' (latitude: 721)>\n",
      "array([-4.37113883e-08,  4.36335988e-03,  8.72656144e-03,  1.30895972e-02,\n",
      "        1.74523834e-02,  2.18149554e-02,  2.61769947e-02,  3.05385347e-02,\n",
      "        3.48994955e-02,  3.92597876e-02,  4.36194539e-02,  4.79781702e-02,\n",
      "        5.23359738e-02,  5.66927791e-02,  6.10485077e-02,  6.54031932e-02,\n",
      "        6.97565079e-02,  7.41085038e-02,  7.84590840e-02,  8.28081742e-02,\n",
      "        8.71558040e-02,  9.15016532e-02,  9.58457589e-02,  1.00188047e-01,\n",
      "        1.04528420e-01,  1.08866930e-01,  1.13203242e-01,  1.17537402e-01,\n",
      "        1.21869326e-01,  1.26198918e-01,  1.30526245e-01,  1.34850949e-01,\n",
      "        1.39173105e-01,  1.43492594e-01,  1.47809476e-01,  1.52123436e-01,\n",
      "        1.56434491e-01,  1.60742566e-01,  1.65047571e-01,  1.69349566e-01,\n",
      "        1.73648223e-01,  1.77943558e-01,  1.82235524e-01,  1.86524004e-01,\n",
      "        1.90809056e-01,  1.95090353e-01,  1.99367940e-01,  2.03641742e-01,\n",
      "        2.07911655e-01,  2.12177724e-01,  2.16439649e-01,  2.20697448e-01,\n",
      "        2.24951044e-01,  2.29200348e-01,  2.33445421e-01,  2.37685919e-01,\n",
      "        2.41921902e-01,  2.46153280e-01,  2.50379950e-01,  2.54601985e-01,\n",
      "        2.58819073e-01,  2.63031214e-01,  2.67238349e-01,  2.71440506e-01,\n",
      "        2.75637388e-01,  2.79829025e-01,  2.84015328e-01,  2.88196236e-01,\n",
      "        2.92371780e-01,  2.96541601e-01,  3.00705820e-01,  3.04864287e-01,\n",
      "        3.09016973e-01,  3.13163877e-01,  3.17304701e-01,  3.21439475e-01,\n",
      "        3.25568140e-01,  3.29690605e-01,  3.33806902e-01,  3.37916762e-01,\n",
      "...\n",
      "        3.25568140e-01,  3.21439475e-01,  3.17304701e-01,  3.13163877e-01,\n",
      "        3.09016973e-01,  3.04864287e-01,  3.00705820e-01,  2.96541601e-01,\n",
      "        2.92371780e-01,  2.88196236e-01,  2.84015328e-01,  2.79829025e-01,\n",
      "        2.75637388e-01,  2.71440506e-01,  2.67238349e-01,  2.63031214e-01,\n",
      "        2.58819073e-01,  2.54601985e-01,  2.50379950e-01,  2.46153280e-01,\n",
      "        2.41921902e-01,  2.37685919e-01,  2.33445421e-01,  2.29200348e-01,\n",
      "        2.24951044e-01,  2.20697448e-01,  2.16439649e-01,  2.12177724e-01,\n",
      "        2.07911655e-01,  2.03641742e-01,  1.99367940e-01,  1.95090353e-01,\n",
      "        1.90809056e-01,  1.86524004e-01,  1.82235524e-01,  1.77943558e-01,\n",
      "        1.73648223e-01,  1.69349566e-01,  1.65047571e-01,  1.60742566e-01,\n",
      "        1.56434491e-01,  1.52123436e-01,  1.47809476e-01,  1.43492594e-01,\n",
      "        1.39173105e-01,  1.34850949e-01,  1.30526245e-01,  1.26198918e-01,\n",
      "        1.21869326e-01,  1.17537402e-01,  1.13203242e-01,  1.08866930e-01,\n",
      "        1.04528420e-01,  1.00188047e-01,  9.58457589e-02,  9.15016532e-02,\n",
      "        8.71558040e-02,  8.28081742e-02,  7.84590840e-02,  7.41085038e-02,\n",
      "        6.97565079e-02,  6.54031932e-02,  6.10485077e-02,  5.66927791e-02,\n",
      "        5.23359738e-02,  4.79781702e-02,  4.36194539e-02,  3.92597876e-02,\n",
      "        3.48994955e-02,  3.05385347e-02,  2.61769947e-02,  2.18149554e-02,\n",
      "        1.74523834e-02,  1.30895972e-02,  8.72656144e-03,  4.36335988e-03,\n",
      "       -4.37113883e-08], dtype=float32)\n",
      "Coordinates:\n",
      "  * latitude  (latitude) float32 90.0 89.75 89.5 89.25 ... -89.5 -89.75 -90.0\n"
     ]
    }
   ],
   "source": [
    "weights = np.cos(np.deg2rad(ds_2019.latitude))\n",
    "weights.name = \"weights\"\n",
    "print(weights)"
   ]
  },
  {
   "cell_type": "code",
   "execution_count": 21,
   "metadata": {},
   "outputs": [
    {
     "name": "stdout",
     "output_type": "stream",
     "text": [
      "<xarray.DataArray (latitude: 721, longitude: 1440)>\n",
      "array([[-2605757.8, -2605757.8, -2605757.8, ..., -2605757.8, -2605757.8,\n",
      "        -2605757.8],\n",
      "       [-2576333.8, -2576286.8, -2576310.2, ..., -2576450.5, -2576427. ,\n",
      "        -2576357. ],\n",
      "       [-2586958.8, -2586818.8, -2586748.8, ..., -2587145.8, -2587005.8,\n",
      "        -2586982.2],\n",
      "       ...,\n",
      "       [-3323008.8, -3323709.2, -3324550. , ..., -3321163.8, -3321724.8,\n",
      "        -3322331.2],\n",
      "       [-3262805.8, -3263272.8, -3263809.2, ..., -3261848.2, -3262152. ,\n",
      "        -3262432. ],\n",
      "       [-3132428.2, -3132428.2, -3132428.2, ..., -3132428.2, -3132428.2,\n",
      "        -3132428.2]], dtype=float32)\n",
      "Coordinates:\n",
      "  * longitude  (longitude) float32 0.0 0.25 0.5 0.75 ... 359.25 359.5 359.75\n",
      "  * latitude   (latitude) float32 90.0 89.75 89.5 89.25 ... -89.5 -89.75 -90.0\n"
     ]
    }
   ],
   "source": [
    "str_weighted = ds_2019.str.mean(dim='time').weighted(weights)\n",
    "weighted_mean = str_weighted.mean((\"lon\", \"lat\"))\n",
    "print(weighted_mean)\n"
   ]
  },
  {
   "cell_type": "code",
   "execution_count": 30,
   "metadata": {},
   "outputs": [
    {
     "name": "stdout",
     "output_type": "stream",
     "text": [
      "(721, 1440)\n"
     ]
    }
   ],
   "source": [
    "print(weighted_mean.shape)"
   ]
  },
  {
   "cell_type": "code",
   "execution_count": 22,
   "metadata": {},
   "outputs": [
    {
     "data": {
      "text/plain": [
       "Text(0.5, 1.0, 'Weighted Surface Net Thermal Radiation for 2019 (W/m^2)')"
      ]
     },
     "execution_count": 22,
     "metadata": {},
     "output_type": "execute_result"
    },
    {
     "data": {
      "text/plain": [
       "<Figure size 864x504 with 0 Axes>"
      ]
     },
     "execution_count": 22,
     "metadata": {},
     "output_type": "execute_result"
    },
    {
     "data": {
      "image/png": "[encoded data removed]",
      "text/plain": [
       "<Figure size 864x504 with 2 Axes>"
      ]
     },
     "execution_count": 22,
     "metadata": {
      "image/png": {
       "height": 410,
       "width": 544
      },
      "needs_background": "light"
     },
     "output_type": "execute_result"
    },
    {
     "data": {
      "text/plain": [
       "<Figure size 1296x864 with 0 Axes>"
      ]
     },
     "execution_count": 22,
     "metadata": {},
     "output_type": "execute_result"
    }
   ],
   "source": [
    "#plot data on other projections\n",
    "plt.clf()\n",
    "\n",
    "# t2m_test = ds.t2m.sel(time='1979-01-01', method='nearest')\n",
    "# field_test=(ds_2019.sshf).sel(time=year_str+'-'+month_str+'-01', method='nearest')\n",
    "field_test=weighted_mean #yearly average\n",
    "# field_test=((ds_2019.sshf)/(31.*24.*3600.)).sel(time=year_str+'-'+month_str+'-01', method='nearest')\n",
    "plt.figure()\n",
    "ax = plt.axes(projection=ccrs.Mercator(central_longitude=180))\n",
    "#     ax.stock_img()\n",
    "ax.coastlines()\n",
    "\n",
    "biasContDist=10\n",
    "# iMinMax=-120\n",
    "iMinMax=12.*biasContDist/2.+biasContDist/2.\n",
    "# clevsTD=np.arange(-2*iMinMax,+0.0001,biasContDist)\n",
    "clevsTD=np.arange(-2*iMinMax,0.0001,biasContDist)\n",
    "\n",
    "fig = plt.figure(figsize=(18,12))\n",
    "#     ax = plt.axes(projection=ccrs.Orthographic())\n",
    "ax.coastlines()\n",
    "ax.gridlines()\n",
    "(field_test/86400.).plot.contourf(ax=ax, transform=ccrs.PlateCarree(), clevel=clevsTD, extend='both', cmap='coolwarm', vmin=-130, vmax=0, cbar_kwargs={'shrink': 0.4})\n",
    "\n",
    "\n",
    "ax.set_title('Weighted Surface Net Thermal Radiation for 2019 (W/m^2)')\n"
   ]
  },
  {
   "cell_type": "markdown",
   "metadata": {},
   "source": [
    "Create a xarray DataArray\n",
    "\n",
    "https://unidata.github.io/python-training/workshop/XArray/xarray-introduction/"
   ]
  },
  {
   "cell_type": "code",
   "execution_count": 9,
   "metadata": {},
   "outputs": [
    {
     "name": "stdout",
     "output_type": "stream",
     "text": [
      "<xarray.DataArray (lats: 721, lons: 1440)>\n",
      "array([[-4.371139e-08, -4.371139e-08, -4.371139e-08, ..., -4.371139e-08,\n",
      "        -4.371139e-08, -4.371139e-08],\n",
      "       [ 4.363360e-03,  4.363360e-03,  4.363360e-03, ...,  4.363360e-03,\n",
      "         4.363360e-03,  4.363360e-03],\n",
      "       [ 8.726561e-03,  8.726561e-03,  8.726561e-03, ...,  8.726561e-03,\n",
      "         8.726561e-03,  8.726561e-03],\n",
      "       ...,\n",
      "       [ 8.726561e-03,  8.726561e-03,  8.726561e-03, ...,  8.726561e-03,\n",
      "         8.726561e-03,  8.726561e-03],\n",
      "       [ 4.363360e-03,  4.363360e-03,  4.363360e-03, ...,  4.363360e-03,\n",
      "         4.363360e-03,  4.363360e-03],\n",
      "       [-4.371139e-08, -4.371139e-08, -4.371139e-08, ..., -4.371139e-08,\n",
      "        -4.371139e-08, -4.371139e-08]], dtype=float32)\n",
      "Dimensions without coordinates: lats, lons\n",
      "Attributes:\n",
      "    standard_name:  weights\n"
     ]
    }
   ],
   "source": [
    "\n",
    "temp = np.cos(np.deg2rad(lats))\n",
    "# temp = xr.DataArray(weights)\n",
    "weights = xr.DataArray(temp, dims=['lats', 'lons'])\n",
    "weights.attrs['standard_name'] = 'weights'\n",
    "\n",
    "print(weights)"
   ]
  },
  {
   "cell_type": "code",
   "execution_count": 26,
   "metadata": {},
   "outputs": [
    {
     "name": "stderr",
     "output_type": "stream",
     "text": [
      "2020-10-13 23:19:44,322 WARNING No handles with labels found to put in legend.\n"
     ]
    },
    {
     "data": {
      "text/plain": [
       "<matplotlib.legend.Legend at 0x7fbd95cece80>"
      ]
     },
     "execution_count": 26,
     "metadata": {},
     "output_type": "execute_result"
    },
    {
     "data": {
      "image/png": "[encoded data removed]",
      "text/plain": [
       "<Figure size 864x504 with 1 Axes>"
      ]
     },
     "execution_count": 26,
     "metadata": {
      "image/png": {
       "height": 425,
       "width": 732
      },
      "needs_background": "light"
     },
     "output_type": "execute_result"
    }
   ],
   "source": [
    "field_test=ds_2019.str.mean(dim='time')+ds_2019.ssr.mean(dim='time')+ds_2019.sshf.mean(dim='time')+ds_2019.slhf.mean(dim='time')\n",
    "# (field_test/86400.).weighted(weights).mean(dim=('longitude')).plot()\n",
    "(field_test/86400.).mean(dim=('longitude')).plot()\n",
    "(ds_2019.ssr.mean(dim='time')/86400.).mean(dim=('longitude')).plot()\n",
    "(ds_2019.str.mean(dim='time')/86400.).mean(dim=('longitude')).plot()\n",
    "(1.*weighted_mean/86400.).mean(dim=('longitude')).plot()\n",
    "(ds_2019.slhf.mean(dim='time')/86400.).mean(dim=('longitude')).plot()\n",
    "(ds_2019.sshf.mean(dim='time')/86400.).mean(dim=('longitude')).plot()\n",
    "labels = ['ssr','str','weighted_str','slhf','sshf']\n",
    "plt.legend(labels,loc='lower right')\n",
    "ax.legend()\n"
   ]
  },
  {
   "cell_type": "code",
   "execution_count": 2,
   "metadata": {},
   "outputs": [
    {
     "ename": "SyntaxError",
     "evalue": "unmatched ')' (<ipython-input-2-d824d1392a03>, line 1)",
     "output_type": "error",
     "traceback": [
      "\u001b[0;36m  File \u001b[0;32m\"<ipython-input-2-d824d1392a03>\"\u001b[0;36m, line \u001b[0;32m1\u001b[0m\n\u001b[0;31m    print(np.asarray(field_test)/86400))\u001b[0m\n\u001b[0m                                       ^\u001b[0m\n\u001b[0;31mSyntaxError\u001b[0m\u001b[0;31m:\u001b[0m unmatched ')'\n"
     ]
    }
   ],
   "source": [
    "print(np.asarray(field_test)/86400))\n",
    "# np.asarray(np.cos(np.pi*lats/180.)).shape"
   ]
  },
  {
   "cell_type": "code",
   "execution_count": 40,
   "metadata": {},
   "outputs": [
    {
     "name": "stdout",
     "output_type": "stream",
     "text": [
      "0.63573587\n"
     ]
    },
    {
     "ename": "ValueError",
     "evalue": "shapes (721,1440) and (721,1440) not aligned: 1440 (dim 1) != 721 (dim 0)",
     "output_type": "error",
     "traceback": [
      "\u001b[0;31m---------------------------------------------------------------------------\u001b[0m",
      "\u001b[0;31mValueError\u001b[0m                                Traceback (most recent call last)",
      "\u001b[0;32m<ipython-input-40-5f8782e3ac0f>\u001b[0m in \u001b[0;36m<module>\u001b[0;34m\u001b[0m\n\u001b[1;32m      1\u001b[0m \u001b[0;31m# field_test.mean(dim=('longitude'),dim=('latitude')))\u001b[0m\u001b[0;34m\u001b[0m\u001b[0;34m\u001b[0m\u001b[0;34m\u001b[0m\u001b[0m\n\u001b[1;32m      2\u001b[0m \u001b[0mprint\u001b[0m\u001b[0;34m(\u001b[0m\u001b[0mnp\u001b[0m\u001b[0;34m.\u001b[0m\u001b[0mmean\u001b[0m\u001b[0;34m(\u001b[0m\u001b[0mnp\u001b[0m\u001b[0;34m.\u001b[0m\u001b[0mcos\u001b[0m\u001b[0;34m(\u001b[0m\u001b[0mnp\u001b[0m\u001b[0;34m.\u001b[0m\u001b[0mpi\u001b[0m\u001b[0;34m*\u001b[0m\u001b[0mlats\u001b[0m\u001b[0;34m/\u001b[0m\u001b[0;36m180.\u001b[0m\u001b[0;34m)\u001b[0m\u001b[0;34m)\u001b[0m\u001b[0;34m)\u001b[0m\u001b[0;34m\u001b[0m\u001b[0;34m\u001b[0m\u001b[0m\n\u001b[0;32m----> 3\u001b[0;31m \u001b[0mprint\u001b[0m\u001b[0;34m(\u001b[0m\u001b[0mnp\u001b[0m\u001b[0;34m.\u001b[0m\u001b[0mmean\u001b[0m\u001b[0;34m(\u001b[0m\u001b[0mnp\u001b[0m\u001b[0;34m.\u001b[0m\u001b[0masarray\u001b[0m\u001b[0;34m(\u001b[0m\u001b[0mnp\u001b[0m\u001b[0;34m.\u001b[0m\u001b[0mcos\u001b[0m\u001b[0;34m(\u001b[0m\u001b[0mnp\u001b[0m\u001b[0;34m.\u001b[0m\u001b[0mpi\u001b[0m\u001b[0;34m*\u001b[0m\u001b[0mlats\u001b[0m\u001b[0;34m/\u001b[0m\u001b[0;36m180.\u001b[0m\u001b[0;34m)\u001b[0m\u001b[0;34m)\u001b[0m\u001b[0;34m.\u001b[0m\u001b[0mdot\u001b[0m\u001b[0;34m(\u001b[0m\u001b[0mnp\u001b[0m\u001b[0;34m.\u001b[0m\u001b[0masarray\u001b[0m\u001b[0;34m(\u001b[0m\u001b[0mfield_test\u001b[0m\u001b[0;34m)\u001b[0m\u001b[0;34m/\u001b[0m\u001b[0;36m86400\u001b[0m\u001b[0;34m)\u001b[0m\u001b[0;34m)\u001b[0m\u001b[0;34m)\u001b[0m\u001b[0;31m#/np.mean(np.cos(np.pi*lats/180.))\u001b[0m\u001b[0;34m\u001b[0m\u001b[0;34m\u001b[0m\u001b[0m\n\u001b[0m\u001b[1;32m      4\u001b[0m \u001b[0mnp\u001b[0m\u001b[0;34m.\u001b[0m\u001b[0mmean\u001b[0m\u001b[0;34m(\u001b[0m\u001b[0mnp\u001b[0m\u001b[0;34m.\u001b[0m\u001b[0masarray\u001b[0m\u001b[0;34m(\u001b[0m\u001b[0mfield_test\u001b[0m\u001b[0;34m/\u001b[0m\u001b[0;36m86400\u001b[0m\u001b[0;34m)\u001b[0m\u001b[0;34m)\u001b[0m\u001b[0;31m#/np.mean(np.cos(np.pi*lats/180.))\u001b[0m\u001b[0;34m\u001b[0m\u001b[0;34m\u001b[0m\u001b[0m\n",
      "\u001b[0;31mValueError\u001b[0m: shapes (721,1440) and (721,1440) not aligned: 1440 (dim 1) != 721 (dim 0)"
     ]
    }
   ],
   "source": [
    "# field_test.mean(dim=('longitude'),dim=('latitude')))\n",
    "print(np.mean(np.cos(np.pi*lats/180.)))\n",
    "print(np.mean(np.asarray(np.cos(np.pi*lats/180.))*(np.asarray(field_test)/86400)))#/np.mean(np.cos(np.pi*lats/180.))\n",
    "np.mean(np.asarray(field_test/86400))#/np.mean(np.cos(np.pi*lats/180.))"
   ]
  },
  {
   "cell_type": "code",
   "execution_count": 0,
   "metadata": {},
   "outputs": [],
   "source": []
  },
  {
   "cell_type": "code",
   "execution_count": 0,
   "metadata": {},
   "outputs": [],
   "source": []
  },
  {
   "cell_type": "code",
   "execution_count": 1,
   "metadata": {},
   "outputs": [
    {
     "data": {
      "text/plain": [
       "341.5"
      ]
     },
     "execution_count": 1,
     "metadata": {},
     "output_type": "execute_result"
    }
   ],
   "source": [
    "1366/4."
   ]
  },
  {
   "cell_type": "code",
   "execution_count": 2,
   "metadata": {},
   "outputs": [
    {
     "data": {
      "text/plain": [
       "683.0"
      ]
     },
     "execution_count": 2,
     "metadata": {},
     "output_type": "execute_result"
    }
   ],
   "source": [
    "1366/2."
   ]
  },
  {
   "cell_type": "code",
   "execution_count": 0,
   "metadata": {},
   "outputs": [],
   "source": []
  }
 ],
 "metadata": {
  "kernelspec": {
   "display_name": "Python 3 (ipykernel)",
   "language": "python",
   "name": "python3"
  },
  "language_info": {
   "codemirror_mode": {
    "name": "ipython",
    "version": 3
   },
   "file_extension": ".py",
   "mimetype": "text/x-python",
   "name": "python",
   "nbconvert_exporter": "python",
   "pygments_lexer": "ipython3",
   "version": "3.10.9"
  }
 },
 "nbformat": 4,
 "nbformat_minor": 4
}
